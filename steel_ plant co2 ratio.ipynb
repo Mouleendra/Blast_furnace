{
 "cells": [
  {
   "cell_type": "markdown",
   "metadata": {},
   "source": []
  },
  {
   "cell_type": "code",
   "execution_count": 3,
   "metadata": {},
   "outputs": [
    {
     "name": "stdout",
     "output_type": "stream",
     "text": [
      "Missing values in each column:\n",
      " DATE_TIME           0\n",
      "CB_FLOW          2665\n",
      "CB_PRESS           32\n",
      "CB_TEMP            32\n",
      "STEAM_FLOW       2665\n",
      "STEAM_TEMP         32\n",
      "STEAM_PRESS        32\n",
      "O2_PRESS           32\n",
      "O2_FLOW          2665\n",
      "O2_PER             32\n",
      "PCI              2665\n",
      "ATM_HUMID          32\n",
      "HB_TEMP          3817\n",
      "HB_PRESS         2746\n",
      "TOP_PRESS        2665\n",
      "TOP_TEMP1          32\n",
      "TOP_TEMP2          32\n",
      "TOP_TEMP3          32\n",
      "TOP_TEMP4          32\n",
      "TOP_SPRAY          32\n",
      "TOP_TEMP           32\n",
      "TOP_PRESS_1      2665\n",
      "CO               2665\n",
      "CO2              2665\n",
      "H2               2665\n",
      "SKIN_TEMP_AVG       0\n",
      "dtype: int64\n"
     ]
    }
   ],
   "source": [
    "import pandas as pd\n",
    "import numpy as np\n",
    "import matplotlib.pyplot as plt\n",
    "from sklearn.preprocessing import MinMaxScaler\n",
    "from sklearn.model_selection import train_test_split\n",
    "from sklearn.impute import SimpleImputer\n",
    "from tensorflow.keras.models import Sequential\n",
    "from tensorflow.keras.layers import Dense\n",
    "from tensorflow.keras.optimizers import Adam\n",
    "\n",
    "file_path = r\"C:\\Users\\aaith\\Downloads\\RINL work.csv\"\n",
    "data = pd.read_csv(file_path)\n",
    "\n",
    "\n",
    "print(\"Missing values in each column:\\n\", data.isna().sum())"
   ]
  },
  {
   "cell_type": "code",
   "execution_count": 4,
   "metadata": {},
   "outputs": [],
   "source": [
    "\n",
    "input_columns = ['CO2','CO']\n",
    "num_imputer = SimpleImputer(strategy='mean')\n",
    "\n",
    "data[input_columns] = num_imputer.fit_transform(data[input_columns])"
   ]
  },
  {
   "cell_type": "code",
   "execution_count": 5,
   "metadata": {},
   "outputs": [],
   "source": [
    "data['CO2_ratio'] = data['CO2']/data['CO']"
   ]
  },
  {
   "cell_type": "code",
   "execution_count": 6,
   "metadata": {},
   "outputs": [
    {
     "name": "stdout",
     "output_type": "stream",
     "text": [
      "Missing values in each column:\n",
      " DATE_TIME           0\n",
      "CB_FLOW          2665\n",
      "CB_PRESS           32\n",
      "CB_TEMP            32\n",
      "STEAM_FLOW       2665\n",
      "STEAM_TEMP         32\n",
      "STEAM_PRESS        32\n",
      "O2_PRESS           32\n",
      "O2_FLOW          2665\n",
      "O2_PER             32\n",
      "PCI              2665\n",
      "ATM_HUMID          32\n",
      "HB_TEMP          3817\n",
      "HB_PRESS         2746\n",
      "TOP_PRESS        2665\n",
      "TOP_TEMP1          32\n",
      "TOP_TEMP2          32\n",
      "TOP_TEMP3          32\n",
      "TOP_TEMP4          32\n",
      "TOP_SPRAY          32\n",
      "TOP_TEMP           32\n",
      "TOP_PRESS_1      2665\n",
      "CO                  0\n",
      "CO2                 0\n",
      "H2               2665\n",
      "SKIN_TEMP_AVG       0\n",
      "CO2_ratio           0\n",
      "dtype: int64\n"
     ]
    }
   ],
   "source": [
    "print(\"Missing values in each column:\\n\", data.isna().sum())"
   ]
  },
  {
   "cell_type": "code",
   "execution_count": 19,
   "metadata": {},
   "outputs": [],
   "source": [
    "X = data[['CO2_ratio']].iloc[:-1]  # Convert to DataFrame directly\n",
    "Y = data['CO2_ratio'].iloc[:-1]    # Keep as Series\n"
   ]
  },
  {
   "cell_type": "code",
   "execution_count": 20,
   "metadata": {},
   "outputs": [
    {
     "name": "stdout",
     "output_type": "stream",
     "text": [
      "Train (20323, 1) (20323,) test (5081, 1) (5081,)\n"
     ]
    }
   ],
   "source": [
    "x_train,x_test,y_train,y_test=train_test_split(X,Y,test_size=0.2,random_state=42)\n",
    "print(\"Train\",x_train.shape,y_train.shape,\"test\",x_test.shape,y_test.shape)"
   ]
  },
  {
   "cell_type": "code",
   "execution_count": 23,
   "metadata": {},
   "outputs": [],
   "source": [
    "from sklearn.ensemble import RandomForestRegressor\n",
    "\n",
    "# Train the Random Forest Regressor\n",
    "reg = RandomForestRegressor(n_estimators=100, random_state=42)\n",
    "reg.fit(x_train, y_train)\n",
    "\n",
    "# Make predictions and evaluate the model\n",
    "y_pred = reg.predict(x_test)\n"
   ]
  },
  {
   "cell_type": "code",
   "execution_count": 25,
   "metadata": {},
   "outputs": [],
   "source": [
    "from sklearn.metrics import mean_squared_error, mean_absolute_error, r2_score\n",
    "mse = mean_squared_error(y_test, y_pred)\n",
    "mae = mean_absolute_error(y_test, y_pred)\n",
    "r2 = r2_score(y_test, y_pred)"
   ]
  },
  {
   "cell_type": "code",
   "execution_count": 26,
   "metadata": {},
   "outputs": [
    {
     "name": "stdout",
     "output_type": "stream",
     "text": [
      "Mean Squared Error: 0.00\n",
      "Mean Absolute Error: 0.00\n",
      "R-squared: 1.00\n"
     ]
    }
   ],
   "source": [
    "print(f\"Mean Squared Error: {mse:.2f}\")\n",
    "print(f\"Mean Absolute Error: {mae:.2f}\")\n",
    "print(f\"R-squared: {r2:.2f}\")"
   ]
  },
  {
   "cell_type": "code",
   "execution_count": 28,
   "metadata": {},
   "outputs": [
    {
     "name": "stdout",
     "output_type": "stream",
     "text": [
      "(20323, 1)\n",
      "(5081, 1)\n",
      "Mean Squared Error: 0.00\n",
      "Mean Absolute Error: 0.00\n",
      "R-squared: 1.00\n",
      "Mean Absolute Percentage Error: 0.00\n"
     ]
    }
   ],
   "source": [
    "import numpy as np\n",
    "import pandas as pd\n",
    "from sklearn.model_selection import train_test_split\n",
    "from sklearn.ensemble import RandomForestRegressor\n",
    "from sklearn.metrics import mean_absolute_percentage_error, mean_squared_error, mean_absolute_error, r2_score\n",
    "from sklearn.preprocessing import StandardScaler\n",
    "\n",
    "# Assuming data is already loaded and 'CO2_ratio' column exists\n",
    "X = data[['CO2_ratio']].iloc[:-1]  # Feature as DataFrame\n",
    "Y = data['CO2_ratio'].iloc[:-1]    # Target as Series\n",
    "\n",
    "# Standardize the target variable\n",
    "scaler = StandardScaler()\n",
    "Y_scaled = scaler.fit_transform(Y.values.reshape(-1, 1)).flatten()\n",
    "\n",
    "# Split the data into training and testing sets\n",
    "X_train, X_test, y_train, y_test = train_test_split(X, Y_scaled, test_size=0.2, random_state=42)\n",
    "\n",
    "print(X_train.shape)  # Should output (number of training samples, 1)\n",
    "print(X_test.shape)   # Should output (number of testing samples, 1)\n",
    "\n",
    "# Train the Random Forest Regressor\n",
    "reg = RandomForestRegressor(n_estimators=100, random_state=42)\n",
    "reg.fit(X_train, y_train)\n",
    "\n",
    "# Make predictions\n",
    "y_pred = reg.predict(X_test)\n",
    "\n",
    "# Calculate evaluation metrics\n",
    "mse = mean_squared_error(y_test, y_pred)\n",
    "mae = mean_absolute_error(y_test, y_pred)\n",
    "r2 = r2_score(y_test, y_pred)\n",
    "mape = mean_absolute_percentage_error(y_test, y_pred)\n",
    "\n",
    "# Print the evaluation metrics\n",
    "print(f\"Mean Squared Error: {mse:.2f}\")\n",
    "print(f\"Mean Absolute Error: {mae:.2f}\")\n",
    "print(f\"R-squared: {r2:.2f}\")\n",
    "print(f\"Mean Absolute Percentage Error: {mape:.2f}\")\n"
   ]
  }
 ],
 "metadata": {
  "kernelspec": {
   "display_name": "Python 3",
   "language": "python",
   "name": "python3"
  },
  "language_info": {
   "codemirror_mode": {
    "name": "ipython",
    "version": 3
   },
   "file_extension": ".py",
   "mimetype": "text/x-python",
   "name": "python",
   "nbconvert_exporter": "python",
   "pygments_lexer": "ipython3",
   "version": "3.12.3"
  }
 },
 "nbformat": 4,
 "nbformat_minor": 2
}
